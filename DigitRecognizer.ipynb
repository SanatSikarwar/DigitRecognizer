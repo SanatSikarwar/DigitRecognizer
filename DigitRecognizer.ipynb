{
 "cells": [
  {
   "cell_type": "code",
   "execution_count": 1,
   "id": "6b54bcc5-f02e-440e-9cd6-bdbd710e0c06",
   "metadata": {},
   "outputs": [
    {
     "name": "stdout",
     "output_type": "stream",
     "text": [
      "Number of images used for training: 59995\n"
     ]
    }
   ],
   "source": [
    "import numpy as np\n",
    "import torch\n",
    "import torch.nn as nn\n",
    "import torch.optim as optim\n",
    "import matplotlib.pyplot as plt\n",
    "from torchvision import transforms\n",
    "from PIL import Image\n",
    "import os\n",
    "\n",
    "# Step 1: Load the dataset and labels\n",
    "X = np.load('dataset.npy')  # Assuming dataset.npy contains 2D or 3D images\n",
    "y = np.load('labels.npy')    # Assuming labels.npy contains labels as class indices\n",
    "print(\"Number of images used for training:\",len(X))"
   ]
  },
  {
   "cell_type": "code",
   "execution_count": 2,
   "id": "2edf8a49-c3b9-4839-9b93-9d671b32bb30",
   "metadata": {},
   "outputs": [
    {
     "name": "stdout",
     "output_type": "stream",
     "text": [
      "Epoch [100/1000], Loss: 1.9611\n",
      "Epoch [200/1000], Loss: 1.3612\n",
      "Epoch [300/1000], Loss: 0.9806\n",
      "Epoch [400/1000], Loss: 0.7791\n",
      "Epoch [500/1000], Loss: 0.6608\n",
      "Epoch [600/1000], Loss: 0.5836\n",
      "Epoch [700/1000], Loss: 0.5292\n",
      "Epoch [800/1000], Loss: 0.4888\n",
      "Epoch [900/1000], Loss: 0.4576\n",
      "Epoch [1000/1000], Loss: 0.4331\n"
     ]
    }
   ],
   "source": [
    "# Normalize the data\n",
    "X = X / 255.0  # Scale pixel values to [0, 1]\n",
    "\n",
    "# Flatten the input if needed (i.e., if X is 2D/3D, flatten it into 1D per sample)\n",
    "X = X.reshape(X.shape[0], -1)\n",
    "\n",
    "# Convert to PyTorch tensors\n",
    "X_tensor = torch.tensor(X, dtype=torch.float32)\n",
    "y = torch.tensor(y, dtype=torch.long)  # Ensure y is of type long for CrossEntropyLoss\n",
    "\n",
    "# Step 2: Define the Neural Network\n",
    "class SimpleNN(nn.Module):\n",
    "    def __init__(self, input_size, hidden_size, output_size):\n",
    "        super(SimpleNN, self).__init__()\n",
    "        self.fc1 = nn.Linear(input_size, hidden_size)\n",
    "        self.fc2 = nn.Linear(hidden_size, output_size)\n",
    "    \n",
    "    def forward(self, x):\n",
    "        x = torch.sigmoid(self.fc1(x))  # Hidden layer with sigmoid activation\n",
    "        x = self.fc2(x)  # Output layer with raw logits (no activation)\n",
    "        return x\n",
    "\n",
    "input_size = X_tensor.shape[1]  # Flattened image size\n",
    "hidden_size = 64\n",
    "output_size = 10  # Number of classes\n",
    "\n",
    "model = SimpleNN(input_size, hidden_size, output_size)\n",
    "\n",
    "# Step 3: Loss function and optimizer\n",
    "criterion = nn.CrossEntropyLoss()  # CrossEntropyLoss expects raw logits, not softmax/sigmoid\n",
    "optimizer = optim.SGD(model.parameters(), lr=0.1)\n",
    "\n",
    "# Step 4: Train the model\n",
    "num_epochs = 1000\n",
    "losses = []\n",
    "\n",
    "for epoch in range(num_epochs):\n",
    "    outputs = model(X_tensor)  # Forward pass\n",
    "    loss = criterion(outputs, y)  # Compute loss with raw logits\n",
    "    \n",
    "    optimizer.zero_grad()  # Zero the gradients\n",
    "    loss.backward()  # Backpropagation\n",
    "    optimizer.step()  # Update weights\n",
    "    \n",
    "    losses.append(loss.item())\n",
    "    \n",
    "    if (epoch + 1) % 100 == 0:\n",
    "        print(f'Epoch [{epoch + 1}/{num_epochs}], Loss: {loss.item():.4f}')\n"
   ]
  },
  {
   "cell_type": "code",
   "execution_count": 3,
   "id": "2c39f182-54f0-448f-93fd-ee63b959d1e7",
   "metadata": {},
   "outputs": [
    {
     "data": {
      "image/png": "[encoded data removed]",
      "text/plain": [
       "<Figure size 640x480 with 1 Axes>"
      ]
     },
     "metadata": {},
     "output_type": "display_data"
    }
   ],
   "source": [
    "plt.plot(losses)\n",
    "plt.xlabel('Epoch')\n",
    "plt.ylabel('Loss')\n",
    "plt.title('Loss vs. Epochs')\n",
    "plt.show()"
   ]
  },
  {
   "cell_type": "code",
   "execution_count": 4,
   "id": "262085ca-edb7-4670-b619-5466235153cf",
   "metadata": {},
   "outputs": [
    {
     "name": "stdout",
     "output_type": "stream",
     "text": [
      "Predicted digits:  tensor([3, 0, 4,  ..., 9, 5, 1])\n",
      "Accuracy of the model: 88.79%\n",
      "Model saved to 'simple_nn_model.pth'\n"
     ]
    }
   ],
   "source": [
    "# Step 6: Make predictions\n",
    "with torch.no_grad():\n",
    "    predictions = model(X_tensor)\n",
    "    predicted_labels = torch.argmax(predictions, dim=1)\n",
    "\n",
    "print(\"Predicted digits: \", predicted_labels)\n",
    "\n",
    "# Step 7: Evaluate the Model\n",
    "correct = (predicted_labels == y).sum().item()\n",
    "accuracy = correct / y.size(0) * 100\n",
    "print(f'Accuracy of the model: {accuracy:.2f}%')\n",
    "\n",
    "# Step 8: Save the Model\n",
    "torch.save(model.state_dict(), 'simple_nn_model.pth')\n",
    "print(\"Model saved to 'simple_nn_model.pth'\")"
   ]
  },
  {
   "cell_type": "code",
   "execution_count": 6,
   "id": "ae09bcc7-801a-4c32-9494-bfaf20074ce9",
   "metadata": {},
   "outputs": [
    {
     "name": "stdout",
     "output_type": "stream",
     "text": [
      "Predicted digits from images:  [6, 5, 3, 8, 8]\n"
     ]
    }
   ],
   "source": [
    "import numpy as np\n",
    "import torch\n",
    "import torch.nn as nn\n",
    "from PIL import Image\n",
    "import os\n",
    "\n",
    "# Step 1: Define the Neural Network\n",
    "class SimpleNN(nn.Module):\n",
    "    def __init__(self, input_size, hidden_size, output_size):\n",
    "        super(SimpleNN, self).__init__()\n",
    "        self.fc1 = nn.Linear(input_size, hidden_size)\n",
    "        self.fc2 = nn.Linear(hidden_size, output_size)\n",
    "    \n",
    "    def forward(self, x):\n",
    "        x = torch.sigmoid(self.fc1(x))  # Hidden layer with sigmoid activation\n",
    "        x = self.fc2(x)  # Output layer with raw logits (no activation)\n",
    "        return x\n",
    "\n",
    "# Step 2: Load the model\n",
    "input_size = 784  # Adjust based on your flattened image size\n",
    "hidden_size = 64\n",
    "output_size = 10  # Number of classes\n",
    "\n",
    "model = SimpleNN(input_size, hidden_size, output_size)\n",
    "model.load_state_dict(torch.load('simple_nn_model.pth', weights_only=True))  # Load the saved model\n",
    "model.eval()  # Set the model to evaluation mode\n",
    "\n",
    "# Step 3: Predict Digits from Images Folder\n",
    "def predict_from_images(image_folder):\n",
    "    predictions = []\n",
    "    \n",
    "    for filename in os.listdir(image_folder):\n",
    "        if filename.endswith('.png') or filename.endswith('.jpg'):  # Adjust based on your image format\n",
    "            img = Image.open(os.path.join(image_folder, filename)).convert('L')  # Convert to grayscale\n",
    "            img = img.resize((28, 28))  # Resize to 28x28 (adjust as needed)\n",
    "            img = np.array(img).astype(np.float32) / 255.0  # Normalize\n",
    "            img_tensor = torch.tensor(img).view(-1).unsqueeze(0)  # Flatten and add batch dimension\n",
    "            \n",
    "            with torch.no_grad():\n",
    "                output = model(img_tensor)\n",
    "                _, predicted = torch.max(output.data, 1)\n",
    "                predictions.append(predicted.item())\n",
    "                \n",
    "    return predictions\n",
    "\n",
    "# Example usage\n",
    "predictions = predict_from_images('/home/sanat/Desktop/NN-Task/images')  # Adjust the path to your images folder\n",
    "print(\"Predicted digits from images: \", predictions)"
   ]
  }
 ],
 "metadata": {
  "kernelspec": {
   "display_name": "Python 3 (ipykernel)",
   "language": "python",
   "name": "python3"
  },
  "language_info": {
   "codemirror_mode": {
    "name": "ipython",
    "version": 3
   },
   "file_extension": ".py",
   "mimetype": "text/x-python",
   "name": "python",
   "nbconvert_exporter": "python",
   "pygments_lexer": "ipython3",
   "version": "3.12.3"
  }
 },
 "nbformat": 4,
 "nbformat_minor": 5
}
